{
 "cells": [
  {
   "cell_type": "code",
<<<<<<< HEAD
   "execution_count": 2,
   "id": "3c389d0d",
=======
   "execution_count": 1,
   "id": "6cabf266",
>>>>>>> e3813995adbb601472d97003196c53967c9bd2ee
   "metadata": {},
   "outputs": [],
   "source": [
    "#task1\n",
<<<<<<< HEAD
    "import numpy as np"
=======
    "class MyCustomError(Exception):\n",
    "    def __init__(self, message):\n",
    "        super().__init__(message)\n"
   ]
  },
  {
   "cell_type": "code",
   "execution_count": 2,
   "id": "bd5543cf",
   "metadata": {},
   "outputs": [],
   "source": [
    "\n",
    "def divide_numbers(a, b):\n",
    "    if b == 0:\n",
    "        raise MyCustomError(\"Division by zero is not allowed.\")\n",
    "    return a / b"
>>>>>>> e3813995adbb601472d97003196c53967c9bd2ee
   ]
  },
  {
   "cell_type": "code",
   "execution_count": 3,
<<<<<<< HEAD
   "id": "e2eadc67",
=======
   "id": "c4087d4a",
>>>>>>> e3813995adbb601472d97003196c53967c9bd2ee
   "metadata": {},
   "outputs": [
    {
     "name": "stdout",
     "output_type": "stream",
     "text": [
<<<<<<< HEAD
      "[ 1  2  3  4  5  6  7  8  9 10]\n"
=======
      "Custom Exception Caught: Division by zero is not allowed.\n"
>>>>>>> e3813995adbb601472d97003196c53967c9bd2ee
     ]
    }
   ],
   "source": [
<<<<<<< HEAD
    "a1 = np.arange(1,11)\n",
    "print(a1)"
=======
    "\n",
    "try:\n",
    "    result = divide_numbers(10, 0)\n",
    "    print(\"Result:\", result)\n",
    "except MyCustomError as e:\n",
    "    print(\"Custom Exception Caught:\", e)\n",
    "\n"
>>>>>>> e3813995adbb601472d97003196c53967c9bd2ee
   ]
  },
  {
   "cell_type": "code",
<<<<<<< HEAD
   "execution_count": 4,
   "id": "192a2003",
   "metadata": {},
   "outputs": [
    {
     "name": "stdout",
     "output_type": "stream",
     "text": [
      "(10,) 10 1\n"
     ]
    }
   ],
   "source": [
    "print(a1.shape , a1.size , a1.ndim)"
=======
   "execution_count": 1,
   "id": "41b16c28",
   "metadata": {},
   "outputs": [],
   "source": [
    "#task2\n",
    "import numpy as np\n",
    "import csv"
>>>>>>> e3813995adbb601472d97003196c53967c9bd2ee
   ]
  },
  {
   "cell_type": "code",
   "execution_count": 5,
<<<<<<< HEAD
   "id": "50a6d847",
   "metadata": {},
   "outputs": [
    {
     "data": {
      "text/plain": [
       "array([[1, 2, 3],\n",
       "       [4, 5, 6],\n",
       "       [7, 8, 9]])"
      ]
     },
     "execution_count": 5,
     "metadata": {},
     "output_type": "execute_result"
    }
   ],
   "source": [
    "a2 = np.arange(1,10).reshape(3,3)\n",
    "a2"
   ]
  },
  {
   "cell_type": "code",
   "execution_count": 6,
   "id": "4680395e",
   "metadata": {},
   "outputs": [
    {
     "name": "stdout",
     "output_type": "stream",
     "text": [
      "(3, 3) 9 2\n"
     ]
    }
   ],
   "source": [
    "print(a2.shape , a2.size , a2.ndim)"
   ]
  },
  {
   "cell_type": "code",
   "execution_count": 7,
   "id": "0b64d1da",
   "metadata": {},
   "outputs": [
    {
     "name": "stdout",
     "output_type": "stream",
     "text": [
      "[[1 2 3]\n",
      " [4 5 6]\n",
      " [7 8 9]]\n"
     ]
    }
   ],
   "source": [
    "print(a2)"
   ]
  },
  {
   "cell_type": "code",
   "execution_count": 8,
   "id": "25aa117c",
   "metadata": {},
   "outputs": [
    {
     "data": {
      "text/plain": [
       "array([[[0.0328132 , 0.26016232, 0.47791749],\n",
       "        [0.07119773, 0.08132753, 0.59069022],\n",
       "        [0.23631121, 0.47434722, 0.43005106],\n",
       "        [0.53208116, 0.13565973, 0.91209192],\n",
       "        [0.41528666, 0.87813131, 0.11887497]],\n",
       "\n",
       "       [[0.52672037, 0.97454899, 0.52356222],\n",
       "        [0.57652948, 0.5590213 , 0.89469723],\n",
       "        [0.99594004, 0.78787688, 0.39306948],\n",
       "        [0.11911598, 0.13736463, 0.68790113],\n",
       "        [0.4440971 , 0.26353295, 0.94631341]],\n",
       "\n",
       "       [[0.85309626, 0.04237561, 0.67865591],\n",
       "        [0.94055715, 0.87223436, 0.41903574],\n",
       "        [0.42793255, 0.03855673, 0.0847139 ],\n",
       "        [0.16873621, 0.24929481, 0.52129347],\n",
       "        [0.62093009, 0.6088233 , 0.96823722]]])"
      ]
     },
     "execution_count": 8,
     "metadata": {},
     "output_type": "execute_result"
    }
   ],
   "source": [
    "a3 = np.random.rand(3,5,3)\n",
    "a3"
=======
   "id": "7ba24de7",
   "metadata": {},
   "outputs": [],
   "source": [
    "arr = np.array([[10, 20, 30],\n",
    "                [40, 50, 60],\n",
    "                [70, 80, 90]])"
>>>>>>> e3813995adbb601472d97003196c53967c9bd2ee
   ]
  },
  {
   "cell_type": "code",
   "execution_count": 9,
<<<<<<< HEAD
   "id": "5d7d9574",
=======
   "id": "4f169af4",
>>>>>>> e3813995adbb601472d97003196c53967c9bd2ee
   "metadata": {},
   "outputs": [
    {
     "name": "stdout",
     "output_type": "stream",
     "text": [
<<<<<<< HEAD
      "(3, 5, 3) 45 3\n"
=======
      "Array written to 'arr.csv'\n"
>>>>>>> e3813995adbb601472d97003196c53967c9bd2ee
     ]
    }
   ],
   "source": [
<<<<<<< HEAD
    "\n",
    "\n",
    "print(a3.shape , a3.size , a3.ndim)\n",
    "\n"
=======
    "with open('arr.csv', 'w', newline='') as f1:\n",
    "    writer = csv.writer(f1)\n",
    "    writer.writerows(arr)\n",
    "print(\"Array written to 'arr.csv'\")"
>>>>>>> e3813995adbb601472d97003196c53967c9bd2ee
   ]
  },
  {
   "cell_type": "code",
   "execution_count": 10,
<<<<<<< HEAD
   "id": "8458b704",
   "metadata": {},
   "outputs": [
    {
     "data": {
      "text/plain": [
       "array([10, 20, 30, 40, 50, 60, 70, 80, 90])"
      ]
     },
     "execution_count": 10,
     "metadata": {},
     "output_type": "execute_result"
    }
   ],
   "source": [
    "#task2\n",
    "data = [10, 20, 30, 40, 50, 60, 70, 80, 90]\n",
    "arr = np.array(data)\n",
    "\n",
    "arr"
=======
   "id": "a465f4f5",
   "metadata": {},
   "outputs": [],
   "source": [
    "new_arr = []\n",
    "with open('arr.csv', 'r') as f1:\n",
    "    reader = csv.reader(f1)\n",
    "    for row in reader:\n",
    "        new_arr.append([int(x) for x in row])"
>>>>>>> e3813995adbb601472d97003196c53967c9bd2ee
   ]
  },
  {
   "cell_type": "code",
   "execution_count": 11,
<<<<<<< HEAD
   "id": "2c02bd86",
   "metadata": {},
   "outputs": [
    {
     "data": {
      "text/plain": [
       "array([10, 20, 30])"
      ]
     },
     "execution_count": 11,
     "metadata": {},
     "output_type": "execute_result"
    }
   ],
   "source": [
    "\n",
    "\n",
    "first3 = arr[:3]\n",
    "first3\n",
    "\n"
   ]
  },
  {
   "cell_type": "code",
   "execution_count": 12,
   "id": "4f89197d",
   "metadata": {},
   "outputs": [
    {
     "data": {
      "text/plain": [
       "array([90, 80, 70, 60, 50, 40, 30, 20, 10])"
      ]
     },
     "execution_count": 12,
     "metadata": {},
     "output_type": "execute_result"
    }
   ],
   "source": [
    "rev = arr[: : -1]\n",
    "rev"
   ]
  },
  {
   "cell_type": "code",
   "execution_count": 13,
   "id": "e8411090",
   "metadata": {},
   "outputs": [],
   "source": [
    "#task3\n",
    "A = np.random.randint(1, 21, size=5)\n",
    "B = np.random.randint(1, 21, size=5)"
   ]
  },
  {
   "cell_type": "code",
   "execution_count": 14,
   "id": "a20cbd8d",
=======
   "id": "08e95f0a",
>>>>>>> e3813995adbb601472d97003196c53967c9bd2ee
   "metadata": {},
   "outputs": [
    {
     "name": "stdout",
     "output_type": "stream",
     "text": [
<<<<<<< HEAD
      "[17 11  1 17  6]\n",
      "[ 8 11  3 16  9]\n"
=======
      "Array read from 'arr.csv':\n",
      "[[10 20 30]\n",
      " [40 50 60]\n",
      " [70 80 90]]\n"
>>>>>>> e3813995adbb601472d97003196c53967c9bd2ee
     ]
    }
   ],
   "source": [
<<<<<<< HEAD
    "\n",
    "\n",
    "print(A)\n",
    "print(B)\n",
    "\n"
   ]
  },
  {
   "cell_type": "code",
   "execution_count": 15,
   "id": "699e816c",
   "metadata": {},
   "outputs": [
    {
     "name": "stdout",
     "output_type": "stream",
     "text": [
      "Addition :  [25 22  4 33 15]\n"
     ]
    }
   ],
   "source": [
    "print('Addition : ',A+B)"
   ]
  },
  {
   "cell_type": "code",
   "execution_count": 16,
   "id": "502b5fc3",
   "metadata": {},
   "outputs": [
    {
     "name": "stdout",
     "output_type": "stream",
     "text": [
      "Subtraction :  [ 9  0 -2  1 -3]\n",
      "Multiply :  [136 121   3 272  54]\n",
      "Divide : [2.125      1.         0.33333333 1.0625     0.66666667]\n"
     ]
    }
   ],
   "source": [
    "print('Subtraction : ',A-B)\n",
    "print('Multiply : ',A*B)\n",
    "print('Divide :',A/B)"
   ]
  },
  {
   "cell_type": "code",
   "execution_count": 17,
   "id": "7b449495",
   "metadata": {},
   "outputs": [
    {
     "name": "stdout",
     "output_type": "stream",
     "text": [
      "Dot Product =  586\n"
     ]
    }
   ],
   "source": [
    "dot = np.dot(A,B)\n",
    "print(\"Dot Product = \",dot)"
   ]
  },
  {
   "cell_type": "code",
   "execution_count": 18,
   "id": "3ae84beb",
   "metadata": {},
   "outputs": [
    {
     "name": "stdout",
     "output_type": "stream",
     "text": [
      "Mean: 10.4\n",
      "Median: 11.0\n",
      "Standard Deviation: 6.248199740725324\n",
      "Variance: 39.040000000000006\n"
     ]
    }
   ],
   "source": [
    "print(\"Mean:\", np.mean(A))\n",
    "print(\"Median:\", np.median(A))\n",
    "print(\"Standard Deviation:\", np.std(A))\n",
    "print(\"Variance:\", np.var(A))"
   ]
  },
  {
   "cell_type": "code",
   "execution_count": 19,
   "id": "7c0b4a2a",
   "metadata": {},
   "outputs": [],
   "source": [
    "max_val = np.max(B)\n",
    "min_val = np.min(B)\n",
    "max_idx = np.argmax(B)\n",
    "min_idx = np.argmin(B)"
   ]
  },
  {
   "cell_type": "code",
   "execution_count": 20,
   "id": "5798fdfb",
   "metadata": {},
   "outputs": [
    {
     "name": "stdout",
     "output_type": "stream",
     "text": [
      "Maximum Value: 16 | Index: 3\n",
      "Minimum Value: 3 | Index: 2\n"
     ]
    }
   ],
   "source": [
    "print(\"Maximum Value:\", max_val, \"| Index:\", max_idx)\n",
    "print(\"Minimum Value:\", min_val, \"| Index:\", min_idx)"
   ]
  },
  {
   "cell_type": "code",
   "execution_count": 21,
   "id": "9d686314",
   "metadata": {},
   "outputs": [
    {
     "data": {
      "text/plain": [
       "array([ 1,  2,  3,  4,  5,  6,  7,  8,  9, 10, 11, 12])"
      ]
     },
     "execution_count": 21,
     "metadata": {},
     "output_type": "execute_result"
    }
   ],
   "source": [
    "#task4\n",
    "array = np.arange(1,13)\n",
    "array\n"
   ]
  },
  {
   "cell_type": "code",
   "execution_count": 22,
   "id": "b5e33878",
   "metadata": {},
   "outputs": [
    {
     "data": {
      "text/plain": [
       "array([[ 1,  2,  3],\n",
       "       [ 4,  5,  6],\n",
       "       [ 7,  8,  9],\n",
       "       [10, 11, 12]])"
      ]
     },
     "execution_count": 22,
     "metadata": {},
     "output_type": "execute_result"
    }
   ],
   "source": [
    "array_2d = array.reshape(4, 3)\n",
    "array_2d"
   ]
  },
  {
   "cell_type": "code",
   "execution_count": 23,
   "id": "708480fa",
   "metadata": {},
   "outputs": [
    {
     "data": {
      "text/plain": [
       "array([[[ 1,  2,  3],\n",
       "        [ 4,  5,  6]],\n",
       "\n",
       "       [[ 7,  8,  9],\n",
       "        [10, 11, 12]]])"
      ]
     },
     "execution_count": 23,
     "metadata": {},
     "output_type": "execute_result"
    }
   ],
   "source": [
    "\n",
    "\n",
    "array_3d = array.reshape(2, 2, 3)\n",
    "array_3d\n",
    "\n"
   ]
  },
  {
   "cell_type": "code",
   "execution_count": 24,
   "id": "27f29ef4",
   "metadata": {},
   "outputs": [
    {
     "name": "stdout",
     "output_type": "stream",
     "text": [
      "Transpose of 2d array :  [[ 1  4  7 10]\n",
      " [ 2  5  8 11]\n",
      " [ 3  6  9 12]]\n",
      "Shape (3, 4)\n"
     ]
    }
   ],
   "source": [
    "transposed_2d = array_2d.T\n",
    "print(\"Transpose of 2d array : \",transposed_2d)\n",
    "print(\"Shape\", transposed_2d.shape)"
   ]
  },
  {
   "cell_type": "code",
   "execution_count": 25,
   "id": "c1398433",
   "metadata": {},
   "outputs": [
    {
     "data": {
      "text/plain": [
       "array([34, 46, 21, 24, 46, 48, 13, 11, 10, 15, 34, 41, 37, 12, 29])"
      ]
     },
     "execution_count": 25,
     "metadata": {},
     "output_type": "execute_result"
    }
   ],
   "source": [
    "#task5\n",
    "array = np.random.randint(10, 51, size=15)\n",
    "array"
   ]
  },
  {
   "cell_type": "code",
   "execution_count": 26,
   "id": "183a90b4",
   "metadata": {},
   "outputs": [
    {
     "name": "stdout",
     "output_type": "stream",
     "text": [
      "Greater then 25 : [34 46 46 48 34 41 37 29]\n"
     ]
    }
   ],
   "source": [
    "\n",
    "\n",
    "gt = array[array >25]\n",
    "print(\"Greater then 25 :\",gt)\n",
    "\n"
   ]
  },
  {
   "cell_type": "code",
   "execution_count": 27,
   "id": "ed351592",
   "metadata": {},
   "outputs": [
    {
     "name": "stdout",
     "output_type": "stream",
     "text": [
      "Modified array [34 46  0  0 46 48  0  0  0  0 34 41 37  0  0]\n"
     ]
    }
   ],
   "source": [
    "mod = np.where(array<30,0,array)\n",
    "print(\"Modified array\",mod)"
   ]
  },
  {
   "cell_type": "code",
   "execution_count": 28,
   "id": "da7d6a61",
   "metadata": {},
   "outputs": [
    {
     "name": "stdout",
     "output_type": "stream",
     "text": [
      "Number of elements divisible by 5: 2\n"
     ]
    }
   ],
   "source": [
    "div = np.sum(array%5==0)\n",
    "print(\"Number of elements divisible by 5:\",div)"
   ]
  },
  {
   "cell_type": "code",
   "execution_count": 29,
   "id": "a0c0d4cb",
   "metadata": {},
   "outputs": [
    {
     "name": "stdout",
     "output_type": "stream",
     "text": [
      "10 equally spaced values between 0 and 1 : [0.         0.11111111 0.22222222 0.33333333 0.44444444 0.55555556\n",
      " 0.66666667 0.77777778 0.88888889 1.        ]\n"
     ]
    }
   ],
   "source": [
    "#task6\n",
    "eq_spaced = np.linspace(0, 1, 10)\n",
    "print(\"10 equally spaced values between 0 and 1 :\", eq_spaced)"
   ]
  },
  {
   "cell_type": "code",
   "execution_count": 30,
   "id": "20765e17",
   "metadata": {},
   "outputs": [
    {
     "name": "stdout",
     "output_type": "stream",
     "text": [
      "Identity matrix (4x4) : [[1. 0. 0. 0.]\n",
      " [0. 1. 0. 0.]\n",
      " [0. 0. 1. 0.]\n",
      " [0. 0. 0. 1.]]\n"
     ]
    }
   ],
   "source": [
    "id_matrix = np.eye(4)\n",
    "print(\"Identity matrix (4x4) :\", id_matrix)"
   ]
  },
  {
   "cell_type": "code",
   "execution_count": 31,
   "id": "9a26a97d",
   "metadata": {},
   "outputs": [
    {
     "name": "stdout",
     "output_type": "stream",
     "text": [
      "Original Random Array : [76 58 36 75 27 20 74 33 76 35 22  5  4 57 70 43 62 51 10 54]\n"
     ]
    }
   ],
   "source": [
    "ran_array = np.random.randint(1, 101, size=20)\n",
    "print(\"Original Random Array :\", ran_array)"
   ]
  },
  {
   "cell_type": "code",
   "execution_count": 32,
   "id": "88ae3398",
   "metadata": {},
   "outputs": [
    {
     "name": "stdout",
     "output_type": "stream",
     "text": [
      "5 Largest Elements: [70 74 75 76 76]\n"
     ]
    }
   ],
   "source": [
    "sorted = np.sort(ran_array)\n",
    "five_large = sorted[-5:]\n",
    "print(\"5 Largest Elements:\", five_large)"
   ]
  },
  {
   "cell_type": "code",
   "execution_count": 33,
   "id": "8441bb08",
   "metadata": {},
   "outputs": [],
   "source": [
    "#task7\n",
    "import time\n",
    "A = np.random.rand(100, 100)\n",
    "B = np.random.rand(100, 100)"
   ]
  },
  {
   "cell_type": "code",
   "execution_count": 34,
   "id": "762c2f01",
   "metadata": {},
   "outputs": [
    {
     "name": "stdout",
     "output_type": "stream",
     "text": [
      "Matrix multiplication completed in 0.0135 seconds.\n",
      "[[24.79190548 25.48562395 23.3283451  ... 25.44506901 23.68899618\n",
      "  24.24211336]\n",
      " [27.61899487 26.78454321 27.68832968 ... 24.79617111 25.38257352\n",
      "  25.88456139]\n",
      " [23.79418673 23.72279362 22.90661877 ... 21.68424318 23.22014538\n",
      "  21.82147879]\n",
      " ...\n",
      " [23.74230867 24.76911487 23.41993004 ... 22.16761528 24.22270232\n",
      "  22.93749523]\n",
      " [26.75733542 28.22015671 26.49910665 ... 25.82837684 26.88136176\n",
      "  26.63478711]\n",
      " [27.69153754 25.77709185 25.45343203 ... 26.0027734  26.34476358\n",
      "  26.26628616]]\n"
     ]
    }
   ],
   "source": [
    "start_time = time.time()\n",
    "C = np.dot(A, B)\n",
    "mult_time = time.time() - start_time\n",
    "print(\"Matrix multiplication completed in {:.4f} seconds.\".format(mult_time))\n",
    "print(C)"
   ]
  },
  {
   "cell_type": "code",
   "execution_count": 35,
   "id": "98c4745f",
   "metadata": {},
   "outputs": [
    {
     "name": "stdout",
     "output_type": "stream",
     "text": [
      "Time Taken :  0.17031097412109375\n",
      "Determinant ;  5.2694327197789456e+50\n"
     ]
    }
   ],
   "source": [
    "start_time = time.time()\n",
    "det_C = np.linalg.det(C)\n",
    "det_time = time.time() - start_time\n",
    "print('Time Taken : ',det_time)\n",
    "print(\"Determinant ; \",det_C) "
   ]
  },
  {
   "cell_type": "code",
   "execution_count": 36,
   "id": "cae94772",
   "metadata": {},
   "outputs": [
    {
     "name": "stdout",
     "output_type": "stream",
     "text": [
      "Inverse computed in 0.0700 seconds.\n",
      "[[-0.54038463 -0.23672923 -0.46187477 ...  0.39572041  1.29314644\n",
      "  -0.91121474]\n",
      " [-1.39127909  0.44634399 -0.25414985 ...  0.49980821  0.21101868\n",
      "   0.26136879]\n",
      " [ 2.2502713  -2.42203714 -1.6967327  ...  1.53752509  2.01677524\n",
      "  -2.32731183]\n",
      " ...\n",
      " [-3.58110521  3.62541446  1.48061571 ...  0.60349212 -6.06948012\n",
      "   5.62975144]\n",
      " [-3.97613038  4.22527777  2.45613312 ... -0.95254564 -5.79556363\n",
      "   5.50266962]\n",
      " [ 2.66964901 -2.12214861 -0.97020826 ... -0.55127683  2.65817852\n",
      "  -2.98281817]]\n"
     ]
    }
   ],
   "source": [
    "if np.isclose(det_C, 0):\n",
    "    print(\"Matrix is singular and cannot be inverted.\")\n",
    "else:\n",
    "    start_time = time.time()\n",
    "    inverse_C = np.linalg.inv(C)\n",
    "    inv_time = time.time() - start_time\n",
    "    print(\"Inverse computed in {:.4f} seconds.\".format(inv_time))\n",
    "    print(inverse_C)"
=======
    "new_arr = np.array(new_arr)\n",
    "print(\"Array read from 'arr.csv':\")\n",
    "print(new_arr)\n"
>>>>>>> e3813995adbb601472d97003196c53967c9bd2ee
   ]
  }
 ],
 "metadata": {
  "kernelspec": {
   "display_name": "Python 3",
   "language": "python",
   "name": "python3"
  },
  "language_info": {
   "codemirror_mode": {
    "name": "ipython",
    "version": 3
   },
   "file_extension": ".py",
   "mimetype": "text/x-python",
   "name": "python",
   "nbconvert_exporter": "python",
   "pygments_lexer": "ipython3",
   "version": "3.7.2"
  }
 },
 "nbformat": 4,
 "nbformat_minor": 5
}
